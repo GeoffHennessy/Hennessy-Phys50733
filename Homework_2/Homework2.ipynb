{
 "cells": [
  {
   "cell_type": "markdown",
   "id": "6c693a0b-8009-4b4c-bec5-03a694642160",
   "metadata": {},
   "source": [
    "## Homework 2\n",
    "### Due: Thursday Feb. 13\n",
    "\n",
    "**Integer vs floating point number**\n",
    "\n",
    "Write a program to calculate and print the factorial of a\n",
    "number.  If you wish you can base your program on the\n",
    "user-defined function for factorial given in Section 2.6, but write your\n",
    "program so that it calculates the factorial using *integer*\n",
    "variables, not floating-point ones.  Use your program to calculate the\n",
    "factorial of 200.\n",
    "\n",
    "Now modify your program to use floating-point variables instead and again\n",
    "calculate the factorial of 200.  What do you find?  Explain.\n",
    "\n",
    "(20 points)"
   ]
  },
  {
   "cell_type": "code",
   "execution_count": 63,
   "id": "de7fed8f-325f-4eab-ab18-1e59d1d6b428",
   "metadata": {},
   "outputs": [
    {
     "name": "stdout",
     "output_type": "stream",
     "text": [
      "788657867364790503552363213932185062295135977687173263294742533244359449963403342920304284011984623904177212138919638830257642790242637105061926624952829931113462857270763317237396988943922445621451664240254033291864131227428294853277524242407573903240321257405579568660226031904170324062351700858796178922222789623703897374720000000000000000000000000000000000000000000000000\n",
      "inf\n"
     ]
    }
   ],
   "source": [
    "# code\n",
    "import numpy as np\n",
    "import matplotlib.pyplot as plt\n",
    "\n",
    "def factorial(x):\n",
    "    result = 1\n",
    "    while x > 1:\n",
    "        result = result * x \n",
    "        x = x - 1\n",
    "    return result\n",
    "\n",
    "print(factorial(200))\n",
    "print(factorial(200.0))"
   ]
  },
  {
   "cell_type": "markdown",
   "id": "31f5e801",
   "metadata": {},
   "source": [
    "My function could take integers and floats as inputs. With the factorial of integer 200, I got a very large number, but python was able to compute and show it. With the factorial of the float of 200, python displayed it as infinite. This is probably because you are delaing with storing memory on both extremes of a number. The number itself is very large, but if you include the float, it also has a trail of decimals that are getting multiplied. So, in the end, Python cannot store a number with that mcuh data in memory."
   ]
  },
  {
   "cell_type": "markdown",
   "id": "1e9a5155-daa8-4809-8e6a-e5d4ab7c270d",
   "metadata": {},
   "source": [
    "**A Simple Derivative**\n",
    "\n",
    "Suppose we have a function $f(x)$ and we want to\n",
    "calculate its derivative at a point $x$.  We can do that with pencil and\n",
    "paper if we know the mathematical form of the function, or we can do it on\n",
    "the computer by making use of the definition of the derivative:\n",
    "\n",
    "<p style=\"text-align:center;\">\n",
    "${d f\\over d x} = \\lim_{\\delta\\to0} {f(x+\\delta)-f(x)\\over\\delta}.$\n",
    "</p>\n",
    "\n",
    "On the computer we can't actually take the limit as $\\delta$ goes to\n",
    "zero, but we can get a reasonable approximation just by making $\\delta$\n",
    "small.\n",
    "- Write a program that defines a function *f(x)* returning the\n",
    "  value $x(x-1)$, then calculates the derivative of the function at the\n",
    "  point $x=1$ using the formula above with $\\delta=10^{-2}$.  Calculate\n",
    "  the true value of the same derivative analytically and compare with the\n",
    "  answer your program gives.  The two will not agree perfectly.  Why not?\n",
    "- Repeat the calculation for $\\delta=10^{-4}$, $10^{-6}$, $10^{-8}$,\n",
    "  $10^{-10}$, $10^{-12}$, and $10^{-14}$.  You should see that the accuracy\n",
    "  of the calculation initially gets better as $\\delta$ gets smaller, but\n",
    "  then gets worse again.  Why is this?\n",
    "\n",
    "(20 points)"
   ]
  },
  {
   "cell_type": "code",
   "execution_count": 64,
   "id": "84528686-9eb8-4446-81db-1a6dc4a26a30",
   "metadata": {},
   "outputs": [
    {
     "name": "stdout",
     "output_type": "stream",
     "text": [
      "For h=1e-2 2.0000000000000018\n",
      "For h=1e-4 1.9999999999997797\n",
      "For h=1e-6 1.999999999946489\n",
      "For h=1e-8 1.9999999989472879\n",
      "For h=1e-10 2.000000165480742\n",
      "For h=1e-12 2.0000667788622195\n",
      "For h=1e-14 1.9984014443252818\n"
     ]
    }
   ],
   "source": [
    "# code\n",
    "def function1(x):\n",
    "    return x * (x-1)\n",
    "def derivative(x,function,stepsize):\n",
    "    result = (function(x + stepsize) - function(x - stepsize))/stepsize\n",
    "    return result\n",
    "\n",
    "print(\"For h=1e-2 \" + str(derivative(1,function1,1e-2)))\n",
    "print(\"For h=1e-4 \" + str(derivative(1,function1,1e-4)))\n",
    "print(\"For h=1e-6 \" + str(derivative(1,function1,1e-6)))\n",
    "print(\"For h=1e-8 \" + str(derivative(1,function1,1e-8)))\n",
    "print(\"For h=1e-10 \" + str(derivative(1,function1,1e-10)))\n",
    "print(\"For h=1e-12 \" + str(derivative(1,function1,1e-12)))\n",
    "print(\"For h=1e-14 \" + str(derivative(1,function1,1e-14)))\n"
   ]
  },
  {
   "cell_type": "markdown",
   "id": "9c960bc8",
   "metadata": {},
   "source": [
    "I believe that the source of this error propogation is due to floating point error. As h gets smaller and smaller, the error in the float from python becomes a larger fraction of h. If you have floating decimals at around 1e-10, that won't affect stepsize around 1e-6 too much. But if your stepsize is in the same range as the floating point error, then that will increase error."
   ]
  },
  {
   "cell_type": "markdown",
   "id": "ebb2e1bb-74fa-4897-9d4d-8ba74bfe1ad2",
   "metadata": {},
   "source": [
    "### Simpson's Rule\n",
    "\n",
    "- Write a program to calculate an approximate value for the integral $\\int_{0}^{2} ( x^4 - 2x + 1)dx$ from Example 5.1 in the book, but using Simpson's rule with 10 slices instead of the trapezoid rule. You may be able to modify your code from the trapezoid rule to complete this task. Compare your result to the known correct value of 4.4. What is the fractional error on your calculation?\n",
    "\n",
    "- Copy your code and modify it to use one hundred slices, then one thousand. Note the improvement in the result and compare to the results from the trapezoid rule.\n",
    "\n",
    "(30 points)"
   ]
  },
  {
   "cell_type": "code",
   "execution_count": 65,
   "id": "d8370bf3-7d95-442e-8d4d-b3636a60e6e7",
   "metadata": {},
   "outputs": [
    {
     "name": "stdout",
     "output_type": "stream",
     "text": [
      "Simpsons for N= 10: 4.400426666666667\n",
      "Simpsons for N= 100: 4.400000042666667\n",
      "Simpsons for N= 10000: 4.400000000000002\n"
     ]
    }
   ],
   "source": [
    "# code\n",
    "def simpsons(x0,xf,function,steps):\n",
    "    h = (xf-x0)/ steps # defining h\n",
    "    evenSum = 0                #initializing each sum\n",
    "    oddSum = 0\n",
    "\n",
    "    for i in range(1,steps,2):\n",
    "        oddSum = oddSum + function(x0 + i*h)\n",
    "\n",
    "    for i in range(2,steps,2):\n",
    "        evenSum = evenSum + function(x0 + i*h)\n",
    "    \n",
    "    integral = (1/3)*h*(function(x0) + function(xf) + 4*oddSum + 2*evenSum)\n",
    "    return integral\n",
    "\n",
    "def function2(x):\n",
    "    return x**4 - 2*x + 1\n",
    "\n",
    "print(\"Simpsons for N= 10: \" + str(simpsons(0,2,function2,10)))\n",
    "print(\"Simpsons for N= 100: \" + str(simpsons(0,2,function2,100)))\n",
    "print(\"Simpsons for N= 10000: \" + str(simpsons(0,2,function2,10000)))"
   ]
  },
  {
   "cell_type": "markdown",
   "id": "4c080cd1-540e-4ab2-a0d6-3372d1899b4f",
   "metadata": {},
   "source": [
    "### An Integral With No Analytic Solution\n",
    "\n",
    "Consider the integral\n",
    "\n",
    "$$ E(x) = \\int_{0}^{x} \\exp{-t^2} dt$$\n",
    "\n",
    "- Write a program to calculate $E(x)$ for values of x from 0 to 3 in steps of 0.1. Choose for yourself what method you will use for performing the integral and a suitable number of slices.\n",
    "\n",
    "- When you are convinced your program is working, extend it further to make a graph of E(x) as a function of x.\n",
    "\n",
    "(30 points)"
   ]
  },
  {
   "cell_type": "code",
   "execution_count": 66,
   "id": "27aaf5cb-8c02-4c8a-affe-d7d67c969b59",
   "metadata": {},
   "outputs": [
    {
     "data": {
      "text/plain": [
       "[<matplotlib.lines.Line2D at 0x1830a9c8310>]"
      ]
     },
     "execution_count": 66,
     "metadata": {},
     "output_type": "execute_result"
    },
    {
     "data": {
      "image/png": "[encoded data removed]",
      "text/plain": [
       "<Figure size 720x432 with 1 Axes>"
      ]
     },
     "metadata": {
      "needs_background": "light"
     },
     "output_type": "display_data"
    }
   ],
   "source": [
    "def bellCurve(x):\n",
    "    return np.exp(-x**2)\n",
    "\n",
    "# For the first part we will use our simpsons's function and set 30 steps to make sure we have a stepsize of 0.1\n",
    "simpsons(0,3,bellCurve,30) \n",
    "\n",
    "# For the graphing we will do the following:\n",
    "#   1) Increase the number of steps to 100. Might as well\n",
    "#   2) create a list of xf values \n",
    "\n",
    "xVals = range(3,1000)\n",
    "yVals = []\n",
    "for i in xVals:\n",
    "    yVals.append(simpsons(0,i,bellCurve,1000))\n",
    "\n",
    "fig = plt.figure(figsize = (10,6))\n",
    "ax = fig.add_subplot(111)\n",
    "ax.plot(xVals,yVals)"
   ]
  }
 ],
 "metadata": {
  "kernelspec": {
   "display_name": "base",
   "language": "python",
   "name": "python3"
  },
  "language_info": {
   "codemirror_mode": {
    "name": "ipython",
    "version": 3
   },
   "file_extension": ".py",
   "mimetype": "text/x-python",
   "name": "python",
   "nbconvert_exporter": "python",
   "pygments_lexer": "ipython3",
   "version": "3.8.8"
  }
 },
 "nbformat": 4,
 "nbformat_minor": 5
}
