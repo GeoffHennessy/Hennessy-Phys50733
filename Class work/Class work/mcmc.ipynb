{
 "cells": [
  {
   "cell_type": "code",
   "execution_count": null,
   "id": "722f25db-c76a-440d-bb61-a9c44a7ccef7",
   "metadata": {},
   "outputs": [
    {
     "ename": "ModuleNotFoundError",
     "evalue": "No module named 'matplotlib'",
     "output_type": "error",
     "traceback": [
      "\u001b[0;31m---------------------------------------------------------------------------\u001b[0m",
      "\u001b[0;31mModuleNotFoundError\u001b[0m                       Traceback (most recent call last)",
      "Cell \u001b[0;32mIn[10], line 2\u001b[0m\n\u001b[1;32m      1\u001b[0m \u001b[38;5;28;01mimport\u001b[39;00m\u001b[38;5;250m \u001b[39m\u001b[38;5;21;01mnumpy\u001b[39;00m\u001b[38;5;250m \u001b[39m\u001b[38;5;28;01mas\u001b[39;00m\u001b[38;5;250m \u001b[39m\u001b[38;5;21;01mnp\u001b[39;00m\n\u001b[0;32m----> 2\u001b[0m \u001b[38;5;28;01mimport\u001b[39;00m\u001b[38;5;250m \u001b[39m\u001b[38;5;21;01mmatplotlib\u001b[39;00m\u001b[38;5;21;01m.\u001b[39;00m\u001b[38;5;21;01mpyplot\u001b[39;00m\u001b[38;5;250m \u001b[39m\u001b[38;5;28;01mas\u001b[39;00m\u001b[38;5;250m \u001b[39m\u001b[38;5;21;01mplt\u001b[39;00m\n\u001b[1;32m      3\u001b[0m \u001b[38;5;28;01mfrom\u001b[39;00m\u001b[38;5;250m \u001b[39m\u001b[38;5;21;01mscipy\u001b[39;00m\u001b[38;5;21;01m.\u001b[39;00m\u001b[38;5;21;01moptimize\u001b[39;00m\u001b[38;5;250m \u001b[39m\u001b[38;5;28;01mimport\u001b[39;00m minimize\n\u001b[1;32m      4\u001b[0m \u001b[38;5;28;01mimport\u001b[39;00m\u001b[38;5;250m \u001b[39m\u001b[38;5;21;01memcee\u001b[39;00m\n",
      "\u001b[0;31mModuleNotFoundError\u001b[0m: No module named 'matplotlib'"
     ]
    }
   ],
   "source": [
    "import numpy as np\n",
    "import matplotlib.pyplot as plt\n",
    "from scipy.optimize import minimize\n",
    "import emcee\n",
    "import corner"
   ]
  },
  {
   "cell_type": "code",
   "execution_count": 1,
   "id": "72606bd1-34ea-4083-870d-5bdb1adfcc74",
   "metadata": {},
   "outputs": [
    {
     "ename": "NameError",
     "evalue": "name 'np' is not defined",
     "output_type": "error",
     "traceback": [
      "\u001b[0;31m---------------------------------------------------------------------------\u001b[0m",
      "\u001b[0;31mNameError\u001b[0m                                 Traceback (most recent call last)",
      "Cell \u001b[0;32mIn[1], line 4\u001b[0m\n\u001b[1;32m      1\u001b[0m \u001b[38;5;28;01mdef\u001b[39;00m\u001b[38;5;250m \u001b[39m\u001b[38;5;21mline\u001b[39m(x, m, b):\n\u001b[1;32m      2\u001b[0m     \u001b[38;5;28;01mreturn\u001b[39;00m m\u001b[38;5;241m*\u001b[39mx \u001b[38;5;241m+\u001b[39m b\n\u001b[0;32m----> 4\u001b[0m x \u001b[38;5;241m=\u001b[39m \u001b[43mnp\u001b[49m\u001b[38;5;241m.\u001b[39marange(\u001b[38;5;241m0\u001b[39m, \u001b[38;5;241m10\u001b[39m, \u001b[38;5;241m0.1\u001b[39m)\n\u001b[1;32m      5\u001b[0m y \u001b[38;5;241m=\u001b[39m line(x, \u001b[38;5;241m2\u001b[39m, \u001b[38;5;241m1\u001b[39m)\n\u001b[1;32m      7\u001b[0m \u001b[38;5;28;01mdef\u001b[39;00m\u001b[38;5;250m \u001b[39m\u001b[38;5;21mchisquare\u001b[39m(xdat, ydat, func):\n",
      "\u001b[0;31mNameError\u001b[0m: name 'np' is not defined"
     ]
    }
   ],
   "source": [
    "def line(x, m, b):\n",
    "    return m*x + b\n",
    "\n",
    "x = np.arange(0, 10, 0.1)\n",
    "y = line(x, 2, 1)\n",
    "\n",
    "def chisquare(xdat, ydat, func):\n",
    "    chifunc = lambda args: np.sum(np.power((ydat - func(xdat, *args)) / ydat, 2)) / len(xdat)\n",
    "    return chifunc\n",
    "\n",
    "chi = chisquare(x, y, line)\n",
    "\n",
    "def bounded(theta):\n",
    "    m, b = theta\n",
    "    if np.abs(m) > 10:\n",
    "        return -np.inf\n",
    "    if np.abs(b) > 10:\n",
    "        return -np.inf\n",
    "    return -0.5*chi(theta)\n",
    "\n",
    "soln = minimize(chi, np.array([0, 0], float))\n",
    "\n",
    "pos = soln.x + 1e-4 * np.random.randn(32, 2)\n",
    "nwalkers, ndim = pos.shape\n",
    "\n",
    "sampler = emcee.EnsembleSampler(\n",
    "    nwalkers, ndim, bounded\n",
    ")\n",
    "N_steps = 5000\n",
    "sampler.run_mcmc(pos, N_steps, progress=True);"
   ]
  },
  {
   "cell_type": "code",
   "execution_count": null,
   "id": "19b28897-175b-49f9-bad4-f5e877bd21c7",
   "metadata": {},
   "outputs": [],
   "source": [
    "flat_samples = sampler.get_chain(discard=100, flat=True)\n",
    "print((flat_samples.shape[0] +100 *nwalkers)/ N_steps)"
   ]
  },
  {
   "cell_type": "code",
   "execution_count": null,
   "id": "424a7a1e-aae1-485e-adb6-431ef4c7a605",
   "metadata": {},
   "outputs": [],
   "source": [
    "plt.figure()\n",
    "fig = corner.corner(flat_samples, labels=[\"$m$\", \"$b$\"],\n",
    "                      truths=[2, 1], show_titles=False)"
   ]
  },
  {
   "cell_type": "code",
   "execution_count": null,
   "id": "f884b36c-9036-414d-873e-f4b479e4e5d9",
   "metadata": {},
   "outputs": [],
   "source": [
    "def poly2d(x, a, b, c):\n",
    "    return a*x**2 + b*x + c\n",
    "\n",
    "y = poly2d(x, 1, 2, 3)\n",
    "\n",
    "chi = chisquare(x, y, poly2d)\n",
    "\n",
    "def bounded(theta):\n",
    "    a, b, c = theta\n",
    "    if np.abs(a) > 5:\n",
    "        return -np.inf\n",
    "    if np.abs(b) > 10:\n",
    "        return -np.inf\n",
    "    return -0.5*chi(theta)\n",
    "\n",
    "soln = minimize(chi, np.array([0, 0, 0], float))\n",
    "\n",
    "pos = soln.x + 1e-4 * np.random.randn(32, 3)\n",
    "nwalkers, ndim = pos.shape\n",
    "\n",
    "sampler = emcee.EnsembleSampler(\n",
    "    nwalkers, ndim, bounded\n",
    ")\n",
    "sampler.run_mcmc(pos, 5000, progress=True);\n",
    "\n",
    "flat_samples = sampler.get_chain(discard=100, flat=True)\n",
    "plt.figure()\n",
    "fig = corner.corner(flat_samples, labels=[\"$a$\", \"$b$\", \"$c$\"],\n",
    "                      truths=[1, 2, 3], show_titles=False)"
   ]
  },
  {
   "cell_type": "code",
   "execution_count": null,
   "id": "90f9a87b-7795-4672-b9dd-b5aaaa7e8840",
   "metadata": {},
   "outputs": [],
   "source": []
  }
 ],
 "metadata": {
  "kernelspec": {
   "display_name": "Python 3",
   "language": "python",
   "name": "python3"
  },
  "language_info": {
   "codemirror_mode": {
    "name": "ipython",
    "version": 3
   },
   "file_extension": ".py",
   "mimetype": "text/x-python",
   "name": "python",
   "nbconvert_exporter": "python",
   "pygments_lexer": "ipython3",
   "version": "3.9.6"
  }
 },
 "nbformat": 4,
 "nbformat_minor": 5
}
