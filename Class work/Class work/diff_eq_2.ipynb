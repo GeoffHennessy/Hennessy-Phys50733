{
 "cells": [
  {
   "cell_type": "markdown",
   "id": "1950ee0c-57a2-4321-8eb6-448c6d113df6",
   "metadata": {},
   "source": [
    "# Differential Equations 2\n",
    "\n",
    "Real life problems frequently involve more than one dependent variable. Fortunately little about our previous Runge-Kutta approach needs to change to handle these problems.\n",
    "\n",
    "First, since we're using computers and we want to write flexible code, we'll turn our dependent variable into a list or array to account for the new term(s). \n",
    "\n",
    "Second, the function $f(\\vec{r}, t)$ will now compute both/all the relevant equations and return the appropriate list/array.\n",
    "\n",
    "Consider the simultaneous equations:\n",
    "\n",
    "$$\n",
    "\\frac{dx}{dt} = xy -x , \\qquad \\frac{dy}{dt} = y- xy + \\sin^2\\omega t\n",
    "$$\n",
    "\n",
    "Perhaps beginning with previous code, write a program to solve these equations from $t=0$ to $t=10$ given $\\omega = 1$, with $ x = y = 0$ at $t=0$. Now that we know fourth-order Runge-Kutta is only a few more lines of code than simpler methods, it should be our first choice going forward."
   ]
  },
  {
   "cell_type": "code",
   "execution_count": 1,
   "id": "90208210-f88d-4978-9ded-1ad7db36364c",
   "metadata": {},
   "outputs": [],
   "source": [
    "# code\n",
    "# Note: Start here. Read the textbook and try to get this part working\n",
    "import numpy as np\n",
    "\n",
    "# Method to advance the spatial vector r. r will be an array with an x  component: r[0], y component: r[1]\n",
    "def partial(r,t, w = 1):\n",
    "    dx = r[0]*r[1] - r[0] # xy -x \n",
    "    dy = r[1] - r[0]*r[1] + np.sin(w*t)**2 # y - xy + sin^2(wt)\n",
    "    return np.array([dx,dy])\n",
    "\n",
    "r = np.array([0,0])\n",
    "w = 1\n",
    "t0 = 0\n",
    "tf = 10\n",
    "N = 100\n",
    "h = (tf-t0)/N\n",
    "timeVals = np.arange(t0,tf,h)\n",
    "\n",
    "\n",
    "for i in timeVals:\n",
    "    # xVals.append(x)\n",
    "    # yvals.append[y]\n",
    "    k1 = h * partial(r,i)\n",
    "    k2 = h * partial(r + 0.5*k1, i + 0.5*h)\n",
    "    k3 =  h * partial(r + 0.5*k2, i + 0.5*h)\n",
    "    k4 = h * partial(r + k3, i + h)\n",
    "    r = r + 1/6 * (k1 + 2*k2 + 2*k3 + k4)\n"
   ]
  },
  {
   "cell_type": "markdown",
   "id": "9690a7e0-05df-4c0b-a2e4-a5b2517cfd4b",
   "metadata": {},
   "source": [
    "## Second Order Differential Equations\n",
    "\n",
    "Section 8.3 discussed a simple method for dealing with second order differential equations: create a system of equations where the first order equation is one of the equations.\n",
    "\n",
    "Example 8.6 defines a new function $d\\theta \\over dt$$ = \\omega$ in order to turn the second order equation $d^2 \\theta \\over dt^2 $$= - \\frac{g}{l} \\sin \\theta$ into two first order equations for $\\theta$ and $\\omega$. The function to use for $f(\\vec{r}, t)$ and some constants are given as well. I've copied over the given code for you. Complete the exercise by adding the Runge-Kutta code and plotting."
   ]
  },
  {
   "cell_type": "code",
   "execution_count": null,
   "id": "fbb79139-65be-4a16-9c64-0a34e846b245",
   "metadata": {},
   "outputs": [],
   "source": [
    "g = 9.81\n",
    "l = 0.1\n",
    "\n",
    "def f(r,t):\n",
    "    theta = r[0]\n",
    "    omega = r[1]\n",
    "    d_theta = omega\n",
    "    d_omega = - (g / l) * np.sin(theta)\n",
    "    return array([d_theta, d_omega], float)\n",
    "# runge-kutta here"
   ]
  }
 ],
 "metadata": {
  "kernelspec": {
   "display_name": "Python 3",
   "language": "python",
   "name": "python3"
  },
  "language_info": {
   "codemirror_mode": {
    "name": "ipython",
    "version": 3
   },
   "file_extension": ".py",
   "mimetype": "text/x-python",
   "name": "python",
   "nbconvert_exporter": "python",
   "pygments_lexer": "ipython3",
   "version": "3.8.10"
  }
 },
 "nbformat": 4,
 "nbformat_minor": 5
}
