{
 "cells": [
  {
   "cell_type": "markdown",
   "id": "1950ee0c-57a2-4321-8eb6-448c6d113df6",
   "metadata": {},
   "source": [
    "# Differential Equations 2\n",
    "\n",
    "Real life problems frequently involve more than one dependent variable. Fortunately little about our previous Runge-Kutta approach needs to change to handle these problems.\n",
    "\n",
    "First, since we're using computers and we want to write flexible code, we'll turn our dependent variable into a list or array to account for the new term(s). \n",
    "\n",
    "Second, the function $f(\\vec{r}, t)$ will now compute both/all the relevant equations and return the appropriate list/array.\n",
    "\n",
    "Consider the simultaneous equations:\n",
    "\n",
    "$$\n",
    "\\frac{dx}{dt} = xy -x , \\qquad \\frac{dy}{dt} = y- xy + \\sin^2\\omega t\n",
    "$$\n",
    "\n",
    "Perhaps beginning with previous code, write a program to solve these equations from $t=0$ to $t=10$ given $\\omega = 1$, with $ x = y = 0$ at $t=0$. Now that we know fourth-order Runge-Kutta is only a few more lines of code than simpler methods, it should be our first choice going forward."
   ]
  },
  {
   "cell_type": "code",
   "execution_count": null,
   "id": "90208210-f88d-4978-9ded-1ad7db36364c",
   "metadata": {},
   "outputs": [
    {
     "data": {
      "image/png": "[encoded data removed]",
      "text/plain": [
       "<Figure size 432x288 with 1 Axes>"
      ]
     },
     "metadata": {
      "needs_background": "light"
     },
     "output_type": "display_data"
    }
   ],
   "source": [
    "# code\n",
    "\n",
    "import numpy as np\n",
    "import matplotlib.pyplot as plt\n",
    "\n",
    "# Method to advance the spatial vector r. r will be an array with an x  component: r[0], y component: r[1]\n",
    "def partial(r,t, w = 1):\n",
    "    dx = r[0]*r[1] - r[0] # xy -x \n",
    "    dy = r[1] - r[0]*r[1] + np.sin(w*t)**2 # y - xy + sin^2(wt)\n",
    "    return np.array([dx,dy])\n",
    "\n",
    "# Initializing conditions. Setting up x0, y0 as (1,1)\n",
    "r = np.array([1,1])\n",
    "xVals = []\n",
    "yVals = []\n",
    "w = 1\n",
    "t0 = 0\n",
    "tf = 10\n",
    "N = 100\n",
    "h = (tf-t0)/N\n",
    "timeVals = np.arange(t0,tf,h)\n",
    "\n",
    "\n",
    "for i in timeVals:\n",
    "    xVals.append(r[0])\n",
    "    yVals.append(r[1])\n",
    "    k1 = h * partial(r,i)\n",
    "    k2 = h * partial(r + 0.5*k1, i + 0.5*h)\n",
    "    k3 =  h * partial(r + 0.5*k2, i + 0.5*h)\n",
    "    k4 = h * partial(r + k3, i + h)\n",
    "    r = r + 1/6 * (k1 + 2*k2 + 2*k3 + k4)\n",
    "\n",
    "plt.figure()\n",
    "plt.scatter(timeVals,xVals) \n",
    "plt.show()\n"
   ]
  },
  {
   "cell_type": "markdown",
   "id": "9690a7e0-05df-4c0b-a2e4-a5b2517cfd4b",
   "metadata": {},
   "source": [
    "## Second Order Differential Equations\n",
    "\n",
    "Section 8.3 discussed a simple method for dealing with second order differential equations: create a system of equations where the first order equation is one of the equations.\n",
    "\n",
    "Example 8.6 defines a new function $d\\theta \\over dt$ $ = \\omega$ in order to turn the second order equation $d^2 \\theta \\over dt^2 $ $= - \\frac{g}{l} \\sin \\theta$ into two first order equations for $\\theta$ and $\\omega$. The function to use for $f(\\vec{r}, t)$ and some constants are given as well. I've copied over the given code for you. Complete the exercise by adding the Runge-Kutta code and plotting."
   ]
  },
  {
   "cell_type": "code",
   "execution_count": 1,
   "id": "fbb79139-65be-4a16-9c64-0a34e846b245",
   "metadata": {},
   "outputs": [
    {
     "ename": "NameError",
     "evalue": "name 'timeVals' is not defined",
     "output_type": "error",
     "traceback": [
      "\u001b[1;31m---------------------------------------------------------------------------\u001b[0m",
      "\u001b[1;31mNameError\u001b[0m                                 Traceback (most recent call last)",
      "\u001b[1;32m<ipython-input-1-e7066c04e4ff>\u001b[0m in \u001b[0;36m<module>\u001b[1;34m\u001b[0m\n\u001b[0;32m     13\u001b[0m \u001b[0mwVals\u001b[0m \u001b[1;33m=\u001b[0m \u001b[1;33m[\u001b[0m\u001b[1;33m]\u001b[0m\u001b[1;33m\u001b[0m\u001b[1;33m\u001b[0m\u001b[0m\n\u001b[0;32m     14\u001b[0m \u001b[1;33m\u001b[0m\u001b[0m\n\u001b[1;32m---> 15\u001b[1;33m \u001b[1;32mfor\u001b[0m \u001b[0mi\u001b[0m \u001b[1;32min\u001b[0m \u001b[0mtimeVals\u001b[0m\u001b[1;33m:\u001b[0m\u001b[1;33m\u001b[0m\u001b[1;33m\u001b[0m\u001b[0m\n\u001b[0m\u001b[0;32m     16\u001b[0m     \u001b[0mthetaVals\u001b[0m\u001b[1;33m.\u001b[0m\u001b[0mappend\u001b[0m\u001b[1;33m(\u001b[0m\u001b[0mr\u001b[0m\u001b[1;33m[\u001b[0m\u001b[1;36m0\u001b[0m\u001b[1;33m]\u001b[0m\u001b[1;33m)\u001b[0m\u001b[1;33m\u001b[0m\u001b[1;33m\u001b[0m\u001b[0m\n\u001b[0;32m     17\u001b[0m     \u001b[0mwVals\u001b[0m\u001b[1;33m.\u001b[0m\u001b[0mappend\u001b[0m\u001b[1;33m(\u001b[0m\u001b[0mr\u001b[0m\u001b[1;33m[\u001b[0m\u001b[1;36m1\u001b[0m\u001b[1;33m]\u001b[0m\u001b[1;33m)\u001b[0m\u001b[1;33m\u001b[0m\u001b[1;33m\u001b[0m\u001b[0m\n",
      "\u001b[1;31mNameError\u001b[0m: name 'timeVals' is not defined"
     ]
    }
   ],
   "source": [
    "g = 9.81\n",
    "l = 0.1\n",
    "\n",
    "def f(r,t):\n",
    "    theta = r[0]\n",
    "    omega = r[1]\n",
    "    d_theta = omega\n",
    "    d_omega = - (g / l) * np.sin(theta)\n",
    "    return np.array([d_theta, d_omega], float)\n",
    "\n",
    "# runge-kutta here\n",
    "thetaVals = []\n",
    "wVals = []\n",
    "\n",
    "for i in timeVals:\n",
    "    thetaVals.append(r[0])\n",
    "    wVals.append(r[1])\n",
    "    k1 = h * f(r,i)\n",
    "    k2 = h * f(r + 0.5*k1, i + 0.5*h)\n",
    "    k3 =  h * f(r + 0.5*k2, i + 0.5*h)\n",
    "    k4 = h * f(r + k3, i + h)\n",
    "    r = r + 1/6 * (k1 + 2*k2 + 2*k3 + k4)\n",
    "\n",
    "plt.figure()\n",
    "plt.plot(timeVals,thetaVals) \n",
    "plt.show()"
   ]
  }
 ],
 "metadata": {
  "kernelspec": {
   "display_name": "base",
   "language": "python",
   "name": "python3"
  },
  "language_info": {
   "codemirror_mode": {
    "name": "ipython",
    "version": 3
   },
   "file_extension": ".py",
   "mimetype": "text/x-python",
   "name": "python",
   "nbconvert_exporter": "python",
   "pygments_lexer": "ipython3",
   "version": "3.8.8"
  }
 },
 "nbformat": 4,
 "nbformat_minor": 5
}
