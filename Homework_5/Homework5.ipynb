{
 "cells": [
  {
   "cell_type": "markdown",
   "id": "bffac090-008a-430d-aeca-eeee1b1766da",
   "metadata": {},
   "source": [
    "# Homework 5\n",
    "## Due Thursday Apr. 3rd\n",
    "\n",
    "### Fitting a parabola\n",
    "\n",
    "Let's quickly create some fake data of a projectile traveling under the influence of gravity."
   ]
  },
  {
   "cell_type": "code",
   "execution_count": 55,
   "id": "82c31699-3c0e-4fc3-a56f-70524465e1ee",
   "metadata": {},
   "outputs": [],
   "source": [
    "import copy\n",
    "import numpy as np\n",
    "import matplotlib.pyplot as plt\n",
    "from matplotlib import cm\n",
    "from matplotlib.colors import LightSource\n",
    "from scipy.optimize import minimize, curve_fit\n"
   ]
  },
  {
   "cell_type": "markdown",
   "id": "75c7aac5-5762-444e-a9b0-62633facb97a",
   "metadata": {},
   "source": [
    "Now we'll conveniently forget that we \"knew\" acceleration due to gravity for the sake of this exercise. \n",
    "\n",
    "We will however remember that objects in motion under the influence of a constant acceleration, in a vacuum, move according to the equation $ x = x_0 + v\\cdot t $+$ a\\cdot t^2 \\over 2$.\n",
    "\n",
    "We should be able to recover the acceleration due to gravity by finding the three coefficients of a second degree polynomial fit to our fake data (use `noisy`, not `y`).\n",
    "\n",
    "- a) Write a 2nd degree polynomial function then use $\\chi^2$ minimization to find the three best fit coefficients (25 pts)\n",
    "\n",
    "- b) Plot your best fit results to confirm the goodness of fit (5 pts)\n",
    "\n",
    "- c) Solve for acceleration due to gravity! (Pretend it's a real problem; I could have given you the data but I figured it was easier to generate it) (5 pts)\n",
    "\n",
    "Hint: If you're having trouble, try using the Nelder Mead algorithm provided in class; it should converge quickly"
   ]
  },
  {
   "cell_type": "code",
   "execution_count": 56,
   "id": "361bd65c-a29c-4601-b961-e32043af358a",
   "metadata": {},
   "outputs": [],
   "source": [
    "# code\n",
    "\n",
    "def Poly2_Ft(x,x0,v,a):\n",
    "    x = x0 + v*x + 0.5*a*(t**2)\n",
    "    return x\n",
    "\n",
    "class chisquare(object):\n",
    "    def __init__(self,xdat,ydat,func):\n",
    "        self.x = xdat\n",
    "        self.y = ydat\n",
    "        self.func = func\n",
    "\n",
    "    def __call__(self,args):\n",
    "        x0,v,a = args\n",
    "        chi2 = np.sum(((self.y-self.func(self.x,*args))/self.y) ** 2)\n",
    "        return chi2\n",
    "    \n"
   ]
  },
  {
   "cell_type": "code",
   "execution_count": 57,
   "id": "c9807dff",
   "metadata": {},
   "outputs": [],
   "source": [
    "def nelder_mead(f, x_start,\n",
    "                step=0.1, no_improve_thr=10e-6,\n",
    "                no_improv_break=10, max_iter=0,\n",
    "                alpha=1., gamma=2., rho=-0.5, sigma=0.5):\n",
    "\n",
    "    # init\n",
    "    dim = len(x_start)\n",
    "    prev_best = f(x_start)\n",
    "    no_improv = 0\n",
    "    res = [[x_start, prev_best]]\n",
    "\n",
    "    for i in range(dim):\n",
    "        x = copy.copy(x_start)\n",
    "        x[i] = x[i] + step\n",
    "        score = f(x)\n",
    "        res.append([x, score])\n",
    "\n",
    "    # simplex iter\n",
    "    iters = 0\n",
    "    while 1:\n",
    "        # order\n",
    "        res.sort(key=lambda x: x[1])\n",
    "        best = res[0][1]\n",
    "\n",
    "        # break after max_iter\n",
    "        if max_iter and iters >= max_iter:\n",
    "            return res[0]\n",
    "        iters += 1\n",
    "\n",
    "        if best < prev_best - no_improve_thr:\n",
    "            no_improv = 0\n",
    "            prev_best = best\n",
    "        else:\n",
    "            no_improv += 1\n",
    "\n",
    "        if no_improv >= no_improv_break:\n",
    "            return res[0]\n",
    "\n",
    "        # centroid\n",
    "        x0 = [0.] * dim\n",
    "        for tup in res[:-1]:\n",
    "            for i, c in enumerate(tup[0]):\n",
    "                x0[i] += c / (len(res)-1)\n",
    "\n",
    "        # reflection\n",
    "        xr = x0 + alpha*(x0 - res[-1][0])\n",
    "        rscore = f(xr)\n",
    "        if res[0][1] <= rscore < res[-2][1]:\n",
    "            del res[-1]\n",
    "            res.append([xr, rscore])\n",
    "            continue\n",
    "\n",
    "        # expansion\n",
    "        if rscore < res[0][1]:\n",
    "            xe = x0 + gamma*(x0 - res[-1][0])\n",
    "            escore = f(xe)\n",
    "            if escore < rscore:\n",
    "                del res[-1]\n",
    "                res.append([xe, escore])\n",
    "                continue\n",
    "            else:\n",
    "                del res[-1]\n",
    "                res.append([xr, rscore])\n",
    "                continue\n",
    "\n",
    "        # contraction\n",
    "        xc = x0 + rho*(x0 - res[-1][0])\n",
    "        cscore = f(xc)\n",
    "        if cscore < res[-1][1]:\n",
    "            del res[-1]\n",
    "            res.append([xc, cscore])\n",
    "            continue\n",
    "\n",
    "        # reduction\n",
    "        x1 = res[0][0]\n",
    "        nres = []\n",
    "        for tup in res:\n",
    "            redx = x1 + sigma*(tup[0] - x1)\n",
    "            score = f(redx)\n",
    "            nres.append([redx, score])\n",
    "        res = nres"
   ]
  },
  {
   "cell_type": "code",
   "execution_count": 58,
   "id": "9770effc",
   "metadata": {},
   "outputs": [
    {
     "name": "stdout",
     "output_type": "stream",
     "text": [
      "[12.25961952 47.23998314 -9.24761345]\n"
     ]
    },
    {
     "data": {
      "text/plain": [
       "[<matplotlib.lines.Line2D at 0x11fc13ac0>]"
      ]
     },
     "execution_count": 58,
     "metadata": {},
     "output_type": "execute_result"
    },
    {
     "data": {
      "image/png": "[encoded data removed]",
      "text/plain": [
       "<Figure size 640x480 with 1 Axes>"
      ]
     },
     "metadata": {},
     "output_type": "display_data"
    }
   ],
   "source": [
    "# Graphing \n",
    "t = np.arange(0, 10, 0.1)\n",
    "y = 10 + 50*t - 9.8*t**2/2\n",
    "noisy = y + np.random.randn(len(y)) * 10\n",
    "\n",
    "chi = chisquare(t,noisy,Poly2_Ft)\n",
    "best, score = nelder_mead(chi, np.array([0,50,-9], float))\n",
    "print(best)\n",
    "\n",
    "yVals = best[0] + best[1] * t + 0.5 * best[2]*t**2\n",
    "\n",
    "\n",
    "plt.scatter(t, noisy)\n",
    "plt.plot(t,yVals, c = \"r\")\n"
   ]
  },
  {
   "cell_type": "markdown",
   "id": "998b6a8c-8a28-4899-8c19-4f61b2c623bc",
   "metadata": {},
   "source": [
    "### You wrote a gradient descent algorithm, right?\n",
    "\n",
    "As promised, the other half of this assignment requires your own implementation of a gradient descent algorithm.\n",
    "\n",
    "Below I have defined a simple function, $2 \\sin x + 1$. Your 2-D/N-D gradient descent algorithm should be able to find a reasonable answer with little trouble.\n",
    "\n",
    "- a) Use your gradient descent algorithm to find the best fit line using chi-square minimization. Feel free to use the existing `line` function in your fitting; you can assume the form and just find coefficients. Make sure the code you wrote for gradient descent is in your turned in assignment. (40 pts)\n",
    "\n",
    "- b) Plot your best fit results to confirm the goodness of fit (5 pts)\n",
    "\n",
    "- c) Plot the chi-square surface that along which you descended; feel free to copy-paste the 3-D plotting code from class. (5 pts, +5 bonus** points if you plot the path your algorithm took down the slope)\n",
    "\n",
    "\n",
    "\n",
    "** I don't think I can enter > 100 in the grade book but if you're already at full credit you probably don't need the bonus right?"
   ]
  },
  {
   "cell_type": "code",
   "execution_count": 59,
   "id": "970309fe-1c29-4857-ad7c-2a14780faa60",
   "metadata": {},
   "outputs": [],
   "source": [
    "def line(x, m, b):\n",
    "    return m*np.sin(x) + b\n",
    "\n",
    "x = np.arange(0, 10, 0.1)\n",
    "y = line(x, 2, 1)\n",
    "\n",
    "# code"
   ]
  },
  {
   "cell_type": "markdown",
   "id": "c6931a79-f31d-4e38-8d82-439bd1f5b7ae",
   "metadata": {},
   "source": [
    "## You're allowed to use scipy now\n",
    "\n",
    "The point of this course is to increase your understanding of computational techniques at their fundamental level. Now that we've beat minimization to death, you've earned the right to simply use `scipy.optimize.minimize`.\n",
    "\n",
    "- a) Exercise that right now by using `minimize` in place of gradient descent or Nelder-Meade to find the best fit of the `line` function above. This may seem like you're substituting a single function name, but note `minimize` returns a \"result\" not a number/array/tuple. You can access the \"answer\" with `result.x`; the documentation may also be helpful. (10 points)\n",
    "\n",
    "- b) In a previouse course you should have seen `scipy.optimize.curve_fit`. Fundamentally, curve_fit is also solving a minimization problem under-the-hood. Can it find the best fit parameters of our `line` function? Try it! Note: `curve_fit` expects inputs in the order `(func, xdat, ydat)`, not the order used in class. In testing, I could not make `curve_fit` converge to the right answer, even if I passed it for the initial guess. Can you? Or have we just demonstrated the need for using lower level functions sometimes?! (5 points)"
   ]
  },
  {
   "cell_type": "code",
   "execution_count": 60,
   "id": "07eeb5fa-ccab-4063-b143-697117a63776",
   "metadata": {},
   "outputs": [],
   "source": [
    "# code"
   ]
  }
 ],
 "metadata": {
  "kernelspec": {
   "display_name": ".venv",
   "language": "python",
   "name": "python3"
  },
  "language_info": {
   "codemirror_mode": {
    "name": "ipython",
    "version": 3
   },
   "file_extension": ".py",
   "mimetype": "text/x-python",
   "name": "python",
   "nbconvert_exporter": "python",
   "pygments_lexer": "ipython3",
   "version": "3.9.6"
  }
 },
 "nbformat": 4,
 "nbformat_minor": 5
}
