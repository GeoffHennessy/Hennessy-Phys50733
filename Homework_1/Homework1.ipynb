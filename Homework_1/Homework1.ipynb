{
 "cells": [
  {
   "cell_type": "markdown",
   "id": "f20dc5ca-3fd3-47c9-b1bb-a60ab7458066",
   "metadata": {
    "id": "f20dc5ca-3fd3-47c9-b1bb-a60ab7458066",
    "tags": []
   },
   "source": [
    "## Homework 1\n",
    "### DUE: Thursday Jan 30\n",
    "\n",
    "**The semi-empirical mass formula**\n",
    "\n",
    "In nuclear physics, the semi-empirical mass formula is a formula for calculating the\n",
    "approximate nuclear binding energy $B$ of an atomic nucleus with atomic number $Z$\n",
    "and mass number $A$. The formula looks like this:\n",
    "    \n",
    "$$ B = a_1 A - a_2 A^{2/3} - a_3 \\frac{Z^2}{A^{1/3}} - a_4 \\frac{(A - 2Z)^2}{A} - \\frac{a_5}{A^{1/2}} $$\n",
    "\n",
    "where, in units of millions of electron volts (MeV), the constants are $a_1 =\n",
    "15.67$, $a_2 = 17.23$, $a_3 = 0.75$, $a_4 = 93.2$, and\n",
    "\n",
    "$$ a_5  \\; =  \\;\\; \\left\\{ \\begin{array} {r@{\\quad\\tt if \\quad}l} 0 & A \\;{\\tt is\n",
    "      \\; odd}, \\\\\n",
    "    12.0 & A \\;{\\tt and}\\; Z \\;{\\tt are \\;both \\;even}, \\\\ -12.0 & A \\;{\\tt is\n",
    "     \\;  even \\; and}\\;  Z \\;{\\tt is\n",
    "  \\;  odd.} \\end{array} \\right. $$\n",
    "\n",
    "Write a **function** that takes as its input the values of $A$ and $Z$, and\n",
    "prints out the binding energy $B$ for the corresponding atom\n",
    "\n",
    "Use your program to find\n",
    "the binding energy of an atom with $A = 58$ and $Z = 28$. (Hint: The\n",
    "correct answer is around 490 MeV.)\n",
    "\n",
    "(20 points)"
   ]
  },
  {
   "cell_type": "code",
   "execution_count": 56,
   "id": "699f9e33-090c-4e43-bb5f-5df501f2259b",
   "metadata": {
    "colab": {
     "base_uri": "https://localhost:8080/"
    },
    "executionInfo": {
     "elapsed": 94,
     "status": "ok",
     "timestamp": 1737062681935,
     "user": {
      "displayName": "Geoffrey Hennessy",
      "userId": "06733921915185639175"
     },
     "user_tz": 360
    },
    "id": "699f9e33-090c-4e43-bb5f-5df501f2259b",
    "outputId": "738a1557-29f5-429d-8e0d-767ef94ecff7"
   },
   "outputs": [
    {
     "data": {
      "text/plain": [
       "490.78425241273493"
      ]
     },
     "execution_count": 56,
     "metadata": {},
     "output_type": "execute_result"
    }
   ],
   "source": [
    "import numpy as np\n",
    "from matplotlib import pyplot as plt\n",
    "\n",
    "a1 = 15.67\n",
    "a2 = 17.23\n",
    "a3 = 0.75\n",
    "a4 = 93.2\n",
    "\n",
    "def empirical_mass(A,Z):\n",
    "  if A%2 == 1:\n",
    "    a5 = 0\n",
    "  elif (A % 2 == 0) and (Z % 2 == 0):\n",
    "    a5 = 12.0\n",
    "  else:\n",
    "    a5 = -12.0\n",
    "\n",
    "  B = a1*A - a2*A**(2/3) - a3*(Z**2)/(A**(1/3)) - a4*((A-2*Z)**2)/A - a5/(A**(1/2))\n",
    "\n",
    "  return B\n",
    "\n",
    "empirical_mass(58,28)\n"
   ]
  },
  {
   "cell_type": "markdown",
   "id": "b89d6a58-5e47-4f74-8276-4adf94591226",
   "metadata": {
    "id": "b89d6a58-5e47-4f74-8276-4adf94591226"
   },
   "source": [
    "Now create a new function that calculates the binding energy per nucleon, B/A. You should be able to write a very short function that calls your previous function to do the heavy lifting. Test your function with some famous cases, e.g., iron 56 and carbon 12.\n",
    "\n",
    "(10 points)"
   ]
  },
  {
   "cell_type": "code",
   "execution_count": 57,
   "id": "4444d94c-121b-4c1e-975f-5bdcde731f73",
   "metadata": {
    "colab": {
     "base_uri": "https://localhost:8080/"
    },
    "executionInfo": {
     "elapsed": 184,
     "status": "ok",
     "timestamp": 1737062683133,
     "user": {
      "displayName": "Geoffrey Hennessy",
      "userId": "06733921915185639175"
     },
     "user_tz": 360
    },
    "id": "4444d94c-121b-4c1e-975f-5bdcde731f73",
    "outputId": "3f25d43c-a2c9-4007-d0be-83fff109e024"
   },
   "outputs": [
    {
     "name": "stdout",
     "output_type": "stream",
     "text": [
      "8.295881590830033\n",
      "6.872651138873636\n"
     ]
    }
   ],
   "source": [
    "# code\n",
    "def binding_energy(A,Z):\n",
    "  fraction = empirical_mass(A,Z) / A\n",
    "  return fraction\n",
    "\n",
    "print(binding_energy(56,26)) #Atomic mass and number for FE\n",
    "print(binding_energy(12,6)) #Atomic mass and number for C\n"
   ]
  },
  {
   "cell_type": "markdown",
   "id": "ef5e6804-881f-411f-91de-f91ce88ff573",
   "metadata": {
    "id": "ef5e6804-881f-411f-91de-f91ce88ff573"
   },
   "source": [
    "Create yet another function that takes a single argument, Z, and finds the value of A at which the binding energy per nucleon is largest. You are aided in this problem in the fact that A is discrete; you can simply check all reasonable values without worrying about mimizing a function or any such thing. You should be able to easily determine the minimum value for A. If you consult a table of nuclides, you'll see some elements have nuclides, with measured half lives, with A > 2Z, so in this exercise use A = 3Z as an upper limit. I encourage you to go verify this! At the time of writing wikipedia has a high resolution version https://upload.wikimedia.org/wikipedia/commons/9/92/NuclideMap.PNG\n",
    "\n",
    "(20 points)"
   ]
  },
  {
   "cell_type": "code",
   "execution_count": 58,
   "id": "7f8dd9b3-9045-4b24-b18e-9ed559b3eda7",
   "metadata": {
    "colab": {
     "base_uri": "https://localhost:8080/"
    },
    "executionInfo": {
     "elapsed": 173,
     "status": "ok",
     "timestamp": 1737063048884,
     "user": {
      "displayName": "Geoffrey Hennessy",
      "userId": "06733921915185639175"
     },
     "user_tz": 360
    },
    "id": "7f8dd9b3-9045-4b24-b18e-9ed559b3eda7",
    "outputId": "699ccbb1-e43e-4030-aa07-22f90bdc9f58"
   },
   "outputs": [
    {
     "data": {
      "text/plain": [
       "(8.398778506446806, 16)"
      ]
     },
     "execution_count": 58,
     "metadata": {},
     "output_type": "execute_result"
    }
   ],
   "source": [
    "# code\n",
    "def max_A(Z):\n",
    "  values = [] #initalizing the list\n",
    "  for A in range(1,3*Z):\n",
    "    values.append(binding_energy(A,Z))\n",
    "\n",
    "  maxVal = np.max(values)\n",
    "\n",
    "  return maxVal, Z\n",
    "\n",
    "max_A(16) #test val"
   ]
  },
  {
   "cell_type": "markdown",
   "id": "4d69c742-5ccd-4b0e-bbed-27c478b0a259",
   "metadata": {
    "id": "4d69c742-5ccd-4b0e-bbed-27c478b0a259"
   },
   "source": [
    "Finally, create a plot of the highest binding energy per nucleon as a function of Z. Remember: science quality plots have labeled axes and a title.\n",
    "\n",
    "(10 points)"
   ]
  },
  {
   "cell_type": "code",
   "execution_count": 59,
   "id": "b189af33-5a0a-4efe-aa98-3ca064c63b3b",
   "metadata": {
    "id": "b189af33-5a0a-4efe-aa98-3ca064c63b3b"
   },
   "outputs": [
    {
     "data": {
      "text/plain": [
       "Text(0.5, 1.0, 'Maximum Binding Energy for Various Elements')"
      ]
     },
     "execution_count": 59,
     "metadata": {},
     "output_type": "execute_result"
    },
    {
     "data": {
      "image/png": "[encoded data removed]",
      "text/plain": [
       "<Figure size 720x504 with 1 Axes>"
      ]
     },
     "metadata": {
      "needs_background": "light"
     },
     "output_type": "display_data"
    }
   ],
   "source": [
    "# code\n",
    "xNums = 16\n",
    "xVals = []\n",
    "yVals = []\n",
    "\n",
    "for numbers in range(1,xNums + 1):\n",
    "    x, y = max_A(numbers)\n",
    "    xVals.append(x)\n",
    "    yVals.append(y)\n",
    "    \n",
    "\n",
    "fig1 = plt.figure(figsize=(10,7))\n",
    "ax1 = fig1.add_subplot(111)\n",
    "\n",
    "ax1.scatter(yVals,xVals)\n",
    "ax1.set_xlabel(\"Atomic Number\", size = 16)\n",
    "ax1.set_ylabel(\"Max Binding Energy per Nucleon\", size = 16)\n",
    "ax1.set_title(\"Maximum Binding Energy for Various Elements\", size = 20)"
   ]
  },
  {
   "cell_type": "markdown",
   "id": "152c114f-b17a-4e97-add4-cf7cd2ec91e4",
   "metadata": {
    "id": "152c114f-b17a-4e97-add4-cf7cd2ec91e4"
   },
   "source": [
    "**Least Squares fitting**\n",
    "\n",
    "It's a common situation in physics that an experiment produces data\n",
    "that lies roughly on a straight line. The straight line can be represented in the familiar form $y=mx+c$ and a\n",
    "frequent question is what the appropriate values of the slope $m$ and\n",
    "intercept $c$ are that correspond to the measured data.  Since the data\n",
    "don't fall perfectly on a straight line, there is no perfect answer to such\n",
    "a question, but we can find the straight line that gives the best\n",
    "compromise fit to the data.  The standard technique for doing this is the\n",
    "*method of least squares*.\n",
    "\n",
    "Suppose we make some guess about the parameters $m$ and $c$ for the\n",
    "straight line.  We then calculate the vertical distances between the data\n",
    "points and that line, as represented by the short vertical lines in the\n",
    "figure, then we calculate the sum of the squares of those distances, which\n",
    "we denote $\\chi^2$.  If we have $N$ data points with\n",
    "coordinates $(x_i,y_i)$, then $\\chi^2$ is given by\n",
    "\n",
    "$$\\chi^2 = \\sum_{i=1}^N (mx_i+c-y_i)^2.$$\n",
    "\n",
    "The least-squares fit of the straight line to the data is the straight line\n",
    "that minimizes this total squared distance from data to line.  We find the\n",
    "minimum by differentiating with respect to both $m$ and $c$ and setting the\n",
    "derivatives to zero, which gives\n",
    "\n",
    "$$m \\sum_{i=1}^N x_i^2 + c \\sum_{i=1}^N x_i - \\sum_{i=1}^N x_iy_i = 0, $$\n",
    "$$m \\sum_{i=1}^N x_i + cN - \\sum_{i=1}^N y_i = 0.$$\n",
    "\n",
    "For convenience, let us define the following quantities:\n",
    "\n",
    "$$E_x = {1\\over N} \\sum_{i=1}^N x_i,\\qquad\n",
    "E_y = {1\\over N} \\sum_{i=1}^N y_i,\\qquad\n",
    "E_{xx} = {1\\over N} \\sum_{i=1}^N x_i^2,\\qquad\n",
    "E_{xy} = {1\\over N} \\sum_{i=1}^N x_iy_i $$\n",
    "\n",
    "in terms of which our equations can be written\n",
    "\n",
    "$$mE_{xx} + cE_x = E_{xy}, $$\n",
    "$$mE_x + c = E_y.$$\n",
    "\n",
    "Solving these equations simultaneously for $m$ and $c$ now gives\n",
    "\n",
    "$$m = {E_{xy}-E_x E_y\\over E_{xx} - E_x^2},\\qquad\n",
    "c = {E_{xx}E_y-E_x E_{xy}\\over E_{xx} - E_x^2}.$$\n",
    "\n",
    "These are the equations for the least-squares fit of a straight line to $N$\n",
    "data points.  They tell you the values of $m$ and $c$ for the line that\n",
    "best fits the given data.\n",
    "\n",
    "In this repo is a file called `millikan.txt`.  The file contains two columns of numbers, giving\n",
    "the $x$ and $y$ coordinates of a set of data points.  Write a program to\n",
    "read these data points and make a graph with one dot or circle for each\n",
    "point.\n",
    "\n",
    "(15 points)"
   ]
  },
  {
   "cell_type": "code",
   "execution_count": 60,
   "id": "818c885e-200b-417c-a4d8-d296cbde23ac",
   "metadata": {
    "id": "818c885e-200b-417c-a4d8-d296cbde23ac"
   },
   "outputs": [
    {
     "data": {
      "text/plain": [
       "Text(0.5, 1.0, 'Millikan Data')"
      ]
     },
     "execution_count": 60,
     "metadata": {},
     "output_type": "execute_result"
    },
    {
     "data": {
      "image/png": "[encoded data removed]",
      "text/plain": [
       "<Figure size 720x504 with 1 Axes>"
      ]
     },
     "metadata": {
      "needs_background": "light"
     },
     "output_type": "display_data"
    }
   ],
   "source": [
    "# code\n",
    "dataFile = open('millikan.txt', 'r')\n",
    "\n",
    "milX = []\n",
    "milY = []\n",
    "\n",
    "for lines in dataFile:\n",
    "    lines = lines.strip()\n",
    "    columns = lines.split()\n",
    "    milX.append(columns[0])\n",
    "    milY.append(columns[1])\n",
    "\n",
    "for i in range(len(milX)):\n",
    "    milX[i] = milX[i].replace(\",\",\"\")\n",
    "    milX[i] = float(milX[i])\n",
    "    \n",
    "    milY[i] = milY[i].replace(\",\",\"\")\n",
    "    milY[i] = float(milY[i])\n",
    "    \n",
    "    \n",
    "fig2 = plt.figure(figsize = (10,7))\n",
    "ax2 = fig2.add_subplot(111)\n",
    "ax2.scatter(milX,milY)\n",
    "ax2.set_title(\"Millikan Data\", size = 20)\n",
    "\n",
    "#Note: I didn't add titles because I'm not sure what to label the data as"
   ]
  },
  {
   "cell_type": "markdown",
   "id": "0777da0c-01a4-4378-a9cb-a2f3244e201a",
   "metadata": {
    "id": "0777da0c-01a4-4378-a9cb-a2f3244e201a"
   },
   "source": [
    "Calculate the quantities $E_x$, $E_y$, $E_{xx}$, and $E_{xy}$ defined above, and from them calculate and print out the slope $m$ and intercept $c$ of the best-fit line. Plot the line with the data.\n",
    "\n",
    "(20 points)"
   ]
  },
  {
   "cell_type": "code",
   "execution_count": 61,
   "id": "e8e80eb5-fa93-463f-a6d5-27a4598ec277",
   "metadata": {
    "id": "e8e80eb5-fa93-463f-a6d5-27a4598ec277"
   },
   "outputs": [
    {
     "name": "stdout",
     "output_type": "stream",
     "text": [
      "4.088227358517516e-15 -1.7312358039813558\n"
     ]
    },
    {
     "name": "stderr",
     "output_type": "stream",
     "text": [
      "<ipython-input-61-8f84134ca886>:26: MatplotlibDeprecationWarning: Adding an axes using the same arguments as a previous axes currently reuses the earlier instance.  In a future version, a new instance will always be created and returned.  Meanwhile, this warning can be suppressed, and the future behavior ensured, by passing a unique label to each axes instance.\n",
      "  ax2 = fig2.add_subplot(111)\n"
     ]
    },
    {
     "data": {
      "text/plain": [
       "<matplotlib.legend.Legend at 0x1d2609a0eb0>"
      ]
     },
     "execution_count": 61,
     "metadata": {},
     "output_type": "execute_result"
    },
    {
     "data": {
      "image/png": "[encoded data removed]",
      "text/plain": [
       "<Figure size 720x504 with 1 Axes>"
      ]
     },
     "metadata": {
      "needs_background": "light"
     },
     "output_type": "display_data"
    }
   ],
   "source": [
    "# code\n",
    "milX = np.array(milX)\n",
    "milY = np.array(milY)\n",
    "\n",
    "def E_x(x):\n",
    "    return np.sum(x)/len(x)\n",
    "\n",
    "def E_xy(x,y):\n",
    "    return np.sum(x * y) / len(x)\n",
    "\n",
    "Ex = E_x(milX)\n",
    "Ey = E_x(milY)\n",
    "Exx = E_x(milX * milX)\n",
    "Exy = E_xy(milX,milY)\n",
    "\n",
    "slope = (Exy - Ex*Ey)/(Exx - Ex*Ex)\n",
    "intercept = (Exx*Ey - Ex*Exy)/(Exx - Ex*Ex)\n",
    "print(slope,intercept)\n",
    "\n",
    "xdata = np.linspace(0.5e15,1.2e15,100)\n",
    "ydata = slope * xdata + intercept\n",
    "\n",
    "fig2 = plt.figure(figsize = (10,7))\n",
    "ax2 = fig2.add_subplot(111)\n",
    "ax2.scatter(milX,milY)\n",
    "ax2 = fig2.add_subplot(111)\n",
    "ax2.plot(xdata,ydata, c = 'r')\n",
    "ax2.set_title(\"Millikan Data\", size = '20')\n",
    "ax2.legend([ 'Least square fit','Milikan Data'])"
   ]
  },
  {
   "cell_type": "markdown",
   "id": "c1a4fd58-6715-4551-8e7b-a36b351e5f8c",
   "metadata": {
    "id": "c1a4fd58-6715-4551-8e7b-a36b351e5f8c"
   },
   "source": [
    "The data in the file `millikan.txt` are taken from a historic\n",
    "  experiment by Robert Millikan that measured the\n",
    "  *photoelectric effect*.  When light of an appropriate wavelength is\n",
    "  shone on the surface of a metal, the photons in the light can strike\n",
    "  conduction electrons in the metal and, sometimes, eject them from the\n",
    "  surface into the free space above.  The energy of an ejected electron is\n",
    "  equal to the energy of the photon that struck it minus a small\n",
    "  amount~$\\phi$ called the **work function** of the surface,\n",
    "  which represents the energy needed to remove an electron from the\n",
    "  surface.  The energy of a photon is $h\\nu$, where $h$ is Planck's\n",
    "  constant and $\\nu$ is the frequency of the light, and we can measure the\n",
    "  energy of an ejected electron by measuring the voltage $V$ that is just\n",
    "  sufficient to stop the electron moving.  Then the voltage, frequency, and\n",
    "  work function are related by the equation\n",
    "\n",
    "$$V = {h\\over e}\\nu - \\phi,$$\n",
    "\n",
    "where $e$ is the charge on the electron.  This equation was first given by\n",
    "Albert Einstein in 1905.\n",
    "\n",
    "The data in the file `millikan.txt` represent frequencies $\\nu$ in\n",
    "hertz (first column) and voltages $V$ in volts (second column) from\n",
    "photoelectric measurements of this kind.  Using the equation above and the\n",
    "program you wrote, and given that the charge on the electron is\n",
    "$1.602\\times10^{-19}\\,$C, calculate from Millikan's experimental data a\n",
    "value for Planck's constant.  Compare your value with the accepted value of\n",
    "the constant, which you can find in books or on-line.  You should get a\n",
    "result within a couple of percent of the accepted value.\n",
    "\n",
    "(5 points)\n",
    "\n",
    "This calculation is essentially the same as the one that Millikan himself\n",
    "used to determine of the value of Planck's constant, although, lacking a\n",
    "computer, he fitted his straight line to the data by eye.  In part for this\n",
    "work, Millikan was awarded the Nobel prize in physics in 1923."
   ]
  },
  {
   "cell_type": "markdown",
   "id": "be780fb8-369e-4579-bd77-bf9c2e9f076b",
   "metadata": {
    "id": "be780fb8-369e-4579-bd77-bf9c2e9f076b"
   },
   "source": [
    "This cell is already set to markdown format. Use markdown format to express your answer."
   ]
  },
  {
   "cell_type": "markdown",
   "id": "1863f422",
   "metadata": {},
   "source": [
    "We have two different methods we can use to evaluate $h$: slope and intercept. \n",
    "\n",
    "For the intercept method we can use the following equation:\n",
    "\\begin{align*}\n",
    "    \\nu \\cdot e (V - \\phi) = h\n",
    "\\end{align*}\n",
    "Plugging in $\\phi = -1.31316, V = 0.5309, \\nu = 5.487 E 14$ we get that $h \\approx 6.605E-36.$\n",
    "\n",
    "Using the slope method we can set $m=\\frac{h}{e}.$ Plugging in the accepted value of $e$ and $4.0882E-15$ from our slope we get that $h\\approx 6.621E-34$.\n",
    "\n",
    "Generally, it's better to use a slope to calculate an experimental value. The currently accepted value of Plank's constant is about $6.626-34$, which put's Millikan's experiment at a about a $-0.3%$ percent error. Pretty impressive!"
   ]
  },
  {
   "cell_type": "markdown",
   "id": "9b8f371f",
   "metadata": {},
   "source": []
  },
  {
   "cell_type": "markdown",
   "id": "b282c0cd",
   "metadata": {},
   "source": []
  }
 ],
 "metadata": {
  "colab": {
   "provenance": []
  },
  "kernelspec": {
   "display_name": "base",
   "language": "python",
   "name": "python3"
  },
  "language_info": {
   "codemirror_mode": {
    "name": "ipython",
    "version": 3
   },
   "file_extension": ".py",
   "mimetype": "text/x-python",
   "name": "python",
   "nbconvert_exporter": "python",
   "pygments_lexer": "ipython3",
   "version": "3.8.8"
  }
 },
 "nbformat": 4,
 "nbformat_minor": 5
}
